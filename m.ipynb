{
 "cells": [
  {
   "cell_type": "code",
   "execution_count": 1,
   "metadata": {},
   "outputs": [],
   "source": [
    "import os\n",
    "import psutil\n",
    "import re\n",
    "import subprocess\n",
    "import threading\n",
    "import time\n",
    "import json\n",
    "import requests\n",
    "import pandas as pd\n",
    "from appium import webdriver\n",
    "from selenium.webdriver.common.actions.pointer_input import PointerInput\n",
    "from selenium.webdriver.common.actions.action_builder import ActionBuilder\n",
    "from selenium.webdriver.common.actions import interaction\n",
    "from selenium.webdriver.common.action_chains import ActionChains\n",
    "from appium.webdriver.common.appiumby import AppiumBy\n",
    "from appium.options.common.base import AppiumOptions\n",
    "from appium import webdriver\n",
    "from appium.options.android import UiAutomator2Options\n",
    "from time import sleep\n",
    "from selenium.webdriver.support.ui import WebDriverWait\n",
    "from selenium.webdriver.support import expected_conditions as EC\n",
    "from selenium.webdriver.common.by import By\n",
    "from selenium.webdriver.common.keys import Keys\n",
    "from datetime import datetime\n",
    "import queue\n",
    "import logging\n",
    "\n",
    "logging.basicConfig(\n",
    "    level=logging.INFO,\n",
    "    format='%(asctime)s - %(levelname)s - %(message)s',\n",
    "    datefmt='%Y-%m-%d %H:%M:%S'\n",
    ")\n",
    "\n",
    "ldconsole_path = 'ldconsole.exe'\n",
    "\n",
    "def find_process_by_port(port):\n",
    "    for conn in psutil.net_connections(kind='inet'):\n",
    "        if conn.laddr.port == port:\n",
    "            try:\n",
    "                return psutil.Process(conn.pid).pid\n",
    "            except (psutil.NoSuchProcess, psutil.AccessDenied, psutil.ZombieProcess):\n",
    "                pass\n",
    "    return None\n",
    "\n",
    "coin_data_queue = queue.Queue()\n",
    "coin_file_lock = threading.Lock()\n",
    "COIN_FILENAME = \"coin_balance.xlsx\"\n",
    "coin_consumer_thread:threading.Thread = None\n",
    "\n",
    "def coin_balance_consumer():\n",
    "    while True:\n",
    "        instance_name, package_name, balance = coin_data_queue.get()\n",
    "        if instance_name is None:\n",
    "            break\n",
    "        save_coin_balance(instance_name, package_name, balance, COIN_FILENAME)\n",
    "        coin_data_queue.task_done()\n",
    "\n",
    "def save_to_queue(instance_name: str, package_name: str, balance: str):\n",
    "    coin_data_queue.put((instance_name, package_name, balance))\n",
    "\n",
    "def save_coin_balance(instance_name: str, package_name: str, balance: str, filename: str = \"coin_balance.xlsx\"):\n",
    "    package_column = f\"{instance_name} - Package Name\"\n",
    "    balance_column = f\"{instance_name} - Balance\"\n",
    "    updated_at_column = f\"{instance_name} - Updated At\"\n",
    "    current_time = datetime.now().strftime('%Y-%m-%d %H:%M:%S')\n",
    "    with coin_file_lock:\n",
    "        if os.path.exists(filename):\n",
    "            df = pd.read_excel(filename)\n",
    "        else:\n",
    "            df = pd.DataFrame()\n",
    "        if package_column not in df.columns:\n",
    "            df[package_column] = pd.Series(dtype=object)\n",
    "            df[balance_column] = pd.Series(dtype=object)\n",
    "            df[updated_at_column] = pd.Series(dtype=object)\n",
    "        if package_name in df[package_column].values:\n",
    "            row_index = df[df[package_column] == package_name].index[0]\n",
    "            df.at[row_index, balance_column] = float(balance)\n",
    "            df.at[row_index, updated_at_column] = current_time\n",
    "        else:\n",
    "            num_entries_in_instance = df[package_column].count()\n",
    "            df.at[num_entries_in_instance, package_column] = package_name\n",
    "            df.at[num_entries_in_instance, balance_column] = float(balance)\n",
    "            df.at[num_entries_in_instance, updated_at_column] = current_time\n",
    "        df.to_excel(filename, index=False)\n",
    "\n",
    "def start_consumer_thread():\n",
    "    global coin_consumer_thread\n",
    "    coin_consumer_thread = threading.Thread(target=coin_balance_consumer, daemon=True)\n",
    "    coin_consumer_thread.start()\n",
    "\n",
    "def stop_consumer_thread():\n",
    "    global coin_consumer_thread\n",
    "    coin_data_queue.put((None, None, None))\n",
    "    coin_consumer_thread.join()\n",
    "\n",
    "\n",
    "def list_ldplayer_instances():\n",
    "    command = f'\"{ldconsole_path}\" list2'\n",
    "    result = subprocess.run(command, stdout=subprocess.PIPE, shell=True)\n",
    "    instances = result.stdout.decode().splitlines()\n",
    "    with open('config.json') as f:\n",
    "        config = json.load(f)\n",
    "        config['instances_index'] = config['instances_index'].split(',')\n",
    "\n",
    "    appium_port = 4723\n",
    "    system_port = 8200\n",
    "    adb_port = 5556\n",
    "\n",
    "    instance_names = []\n",
    "    for line in instances:\n",
    "        line = line.split(',')\n",
    "        if line[0] not in config['instances_index']:\n",
    "            continue\n",
    "        instance_names.append({\n",
    "            \"index\": line[0],\n",
    "            \"name\": line[1],\n",
    "            \"status\": line[5] != \"-1\",\n",
    "            \"appium_port\": appium_port,\n",
    "            \"system_port\": system_port,\n",
    "            \"adb_port\": adb_port,\n",
    "        })\n",
    "        appium_port += 1\n",
    "        system_port += 1\n",
    "        adb_port += 1\n",
    "    return instance_names\n",
    "\n",
    "\n",
    "def launch_ldplayer_instance_by_name(instance_name, adb_port):\n",
    "    subprocess.Popen(f'\"{ldconsole_path}\" launch --name {instance_name} --adb-port {adb_port}')\n",
    "    # subprocess.Popen(f'\"{ldconsole_path}\" launch --name {instance_name}', creationflags=0x00000008)\n",
    "\n",
    "def launch_ldplayer_instance_by_index(instance_index, adb_port):\n",
    "    subprocess.Popen(f'\"{ldconsole_path}\" launch --index {instance_index} --adb-port {adb_port}')\n",
    "    # subprocess.Popen(f'\"{ldconsole_path}\" launch --index {instance_index}', creationflags=0x00000008)\n",
    "\n",
    "def quit_ldplayer_instance_by_name(instance_name):\n",
    "    subprocess.Popen(f'\"{ldconsole_path}\" quit --name {instance_name}')\n",
    "\n",
    "def quit_ldplayer_instance_by_index(instance_index):\n",
    "    subprocess.Popen(f'\"{ldconsole_path}\" quit --index {instance_index}')\n",
    "\n",
    "def list_adb_devices(adb_port):\n",
    "    result = subprocess.run(f'adb devices', stdout=subprocess.PIPE, shell=True)\n",
    "    devices = result.stdout.decode().splitlines()\n",
    "    device_ids = [line.split('\\t')[0] for line in devices if '\\tdevice' in line]\n",
    "    return device_ids\n",
    "\n",
    "def wait_for_new_LDPlayer_instance_to_appear_as_a_device(adb_port, timeout=60):\n",
    "    start_time = time.time()\n",
    "    logging.info(\"Waiting for the new LDPlayer instance to appear as a device...\")\n",
    "    initial_devices = set(list_adb_devices(adb_port))\n",
    "    while time.time() - start_time < timeout:\n",
    "        current_devices = set(list_adb_devices(adb_port))\n",
    "        new_devices = current_devices - initial_devices\n",
    "        if new_devices:\n",
    "            device_id = list(new_devices)[0]\n",
    "            logging.info(f\"LDPlayer instance is running with device ID: {device_id}\")\n",
    "            return device_id\n",
    "        time.sleep(2)\n",
    "    raise Exception('time out waiting for LDPlayer instance to launch')\n",
    "\n",
    "# Function to wait for device to be fully booted\n",
    "def wait_for_device_ready(device_id, adb_port, timeout=60):\n",
    "    start_time = time.time()\n",
    "    while time.time() - start_time < timeout:\n",
    "        # Check if device is online and fully booted\n",
    "        boot_completed = subprocess.run(f'adb -s {device_id} shell getprop sys.boot_completed',\n",
    "                                        stdout=subprocess.PIPE, shell=True)\n",
    "        if '1' in boot_completed.stdout.decode().strip():\n",
    "            logging.info(f\"Device {device_id} is fully booted.\")\n",
    "            return True\n",
    "        logging.info(f\"Waiting for device {device_id} to boot...\")\n",
    "        time.sleep(5)  # Wait for 5 seconds before checking again\n",
    "    raise Exception('device could not be ready in time')\n",
    "\n",
    "def list_installed_plato(device_id, adb_port):\n",
    "    result = subprocess.run(f'adb -s {device_id} shell pm list packages',\n",
    "                                        stdout=subprocess.PIPE, shell=True)\n",
    "    packages = result.stdout.decode().splitlines()\n",
    "\n",
    "    return [x.replace('package:', '') for x in packages if x.startswith('package:com.plato.')]\n",
    "\n",
    "# Function to start Appium session on a specific device\n",
    "def start_appium_session(appium_port, system_port, adb_port, device_id, packageName, app_activity):\n",
    "    desired_caps = {\n",
    "        'platformName': 'Android',                   # Platform name (Android)\n",
    "        # 'platformVersion': '11.0',                   # Replace with your emulator's Android version\n",
    "        'deviceName': device_id,\n",
    "        'systemPort': system_port,\n",
    "        'udid': device_id,\n",
    "        # 'adbPort': adb_port,\n",
    "        # 'app': '/path/to/your/app.apk',              # Replace with the actual APK path if installing\n",
    "        'appPackage': packageName,                  # Replace with your app's package name\n",
    "        'appActivity': app_activity,                # Replace with your app's main activity\n",
    "        'automationName': 'UiAutomator2',            # Automation engine\n",
    "        'autoGrantPermissions': True,                # Auto grant permissions on app install\n",
    "        'noReset': True,                             # Do not reset app state after each session\n",
    "        'fullReset': False,                          # Do not uninstall app between sessions\n",
    "        'newCommandTimeout': 600,                    # Timeout in seconds\n",
    "        'adbExecTimeout': 30000,                    # Timeout in milliseconds\n",
    "        # 'avd': 'Your_AVD_Name',                      # AVD (Android Virtual Device) name if using a specific emulator\n",
    "    }\n",
    "\n",
    "    driver = webdriver.Remote(f'http://localhost:{appium_port}', options=UiAutomator2Options().load_capabilities(desired_caps))\n",
    "    return driver\n",
    "\n",
    "def run_appium_server(appium_server_port):\n",
    "    while 1:\n",
    "        command = f'start cmd /c \"appium --relaxed-security -p {appium_server_port} && exit\"'\n",
    "        process = subprocess.Popen(command, shell=True)\n",
    "        server_url = f'http://localhost:{appium_server_port}/status'\n",
    "        start_time = time.time()\n",
    "        timeout = 30\n",
    "        while time.time() - start_time < timeout:\n",
    "            try:\n",
    "                response = requests.get(server_url)\n",
    "                if response.status_code == 200:\n",
    "                    logging.info(\"Appium server is running!\")\n",
    "                    return process\n",
    "            except Exception:\n",
    "                pass\n",
    "            time.sleep(1)\n",
    "    raise Exception(\"Appium server failed to start within the timeout period.\")\n",
    "\n",
    "def stop_appium_server(appium_server_port):\n",
    "    pid = find_process_by_port(appium_server_port)\n",
    "    if pid:\n",
    "        try:\n",
    "            process = psutil.Process(pid)\n",
    "            process.terminate()\n",
    "            process.wait(timeout=5)\n",
    "            logging.info(f\"Appium server on port {appium_server_port} has been stopped.\")\n",
    "        except Exception as e:\n",
    "            logging.error(f\"Failed to stop Appium server: {e}\")\n",
    "    else:\n",
    "        logging.info(f\"No process found on port {appium_server_port}\")\n"
   ]
  },
  {
   "cell_type": "code",
   "execution_count": 2,
   "metadata": {},
   "outputs": [],
   "source": [
    "\n",
    "def is_game_favorite(d: webdriver.Remote, game_name:str):\n",
    "    home_tab = WebDriverWait(d, 10).until(EC.visibility_of_element_located(\n",
    "        (By.ID, 'plato_tab_home')))\n",
    "    home_tab.click()\n",
    "    fs = WebDriverWait(d, 30).until(EC.visibility_of_element_located(\n",
    "        (By.ID, 'favorites_recycler_view')))\n",
    "    f = fs.find_elements(By.CLASS_NAME, 'android.view.ViewGroup')[0]\n",
    "    c_f = f.find_element(By.ID, 'title_text_view').text\n",
    "    if c_f.lower() == game_name.lower():\n",
    "        return True\n",
    "    return False\n",
    "\n",
    "def select_game(d: webdriver.Remote, game_name: str):\n",
    "    game_tab = WebDriverWait(d, 10).until(EC.visibility_of_element_located(\n",
    "        (By.ID, 'plato_image_games')))\n",
    "    game_tab.click()\n",
    "    game_button = WebDriverWait(d, 10).until(EC.visibility_of_element_located(\n",
    "        (By.ID, 'game_list_item_container')))\n",
    "    found_games = []\n",
    "    while 1:\n",
    "        try:\n",
    "            games_button = d.find_elements(\n",
    "                By.ID, \"game_list_item_container\")\n",
    "            found_new = False\n",
    "            for game in games_button:\n",
    "                game_title = game.find_element(By.ID, 'game_list_item_title').text\n",
    "                if game_title not in found_games:\n",
    "                    if game_name.lower() == game_title.lower():\n",
    "                        game.click()\n",
    "                        return True\n",
    "                    found_games.append(game_title)\n",
    "                    found_new = True\n",
    "            if not found_new:\n",
    "                break\n",
    "            d.press_keycode(20)\n",
    "            d.press_keycode(20)\n",
    "            d.press_keycode(20)\n",
    "        except Exception as e:\n",
    "            pass\n",
    "        # d.swipe(150, 400, 150, 100, 100)\n",
    "    return False\n",
    "\n",
    "def toggle_favorite(d:  webdriver.Remote):\n",
    "    WebDriverWait(d, 10).until(EC.visibility_of_element_located(\n",
    "        (AppiumBy.ACCESSIBILITY_ID, 'Added to Favorites'))).click()\n",
    "\n",
    "def get_coins(d: webdriver.Remote):\n",
    "    WebDriverWait(d, 10).until(EC.visibility_of_element_located(\n",
    "        (By.ID, 'plato_tab_shop'))).click()\n",
    "    balance = WebDriverWait(d, 10).until(EC.visibility_of_element_located(\n",
    "        (By.ID, 'wallet_view_balance'))).text\n",
    "    return balance\n",
    "\n"
   ]
  },
  {
   "cell_type": "code",
   "execution_count": 3,
   "metadata": {},
   "outputs": [],
   "source": [
    "launch_instance_appium_server_lock = threading.Lock()\n",
    "\n",
    "def launch_instance(instance: dict):\n",
    "    instance_index = instance[\"index\"]\n",
    "    instance_name = instance[\"name\"]\n",
    "    instance_adb_port = instance[\"adb_port\"]\n",
    "    with launch_instance_appium_server_lock:\n",
    "        while 1:\n",
    "            try:\n",
    "                logging.info(f\"Launching LDPlayer instance: {instance_name}\")\n",
    "                launch_ldplayer_instance_by_index(instance_index, instance_adb_port)\n",
    "                device_id = wait_for_new_LDPlayer_instance_to_appear_as_a_device(instance_adb_port)\n",
    "                wait_for_device_ready(device_id, instance_adb_port)\n",
    "                return device_id\n",
    "            except Exception as e:\n",
    "                logging.error(f\"failed to launch LDPlayer instance: {instance_name} --------------\")\n",
    "                try:\n",
    "                    quit_ldplayer_instance_by_index(instance_index)\n",
    "                except:\n",
    "                    pass\n"
   ]
  },
  {
   "cell_type": "code",
   "execution_count": 4,
   "metadata": {},
   "outputs": [],
   "source": [
    "instances = list_ldplayer_instances()\n"
   ]
  },
  {
   "cell_type": "code",
   "execution_count": 5,
   "metadata": {},
   "outputs": [
    {
     "data": {
      "text/plain": [
       "{'index': '1',\n",
       " 'name': 'B',\n",
       " 'status': False,\n",
       " 'appium_port': 4724,\n",
       " 'system_port': 8201,\n",
       " 'adb_port': 5557}"
      ]
     },
     "execution_count": 5,
     "metadata": {},
     "output_type": "execute_result"
    }
   ],
   "source": [
    "instance = instances[1]\n",
    "instance"
   ]
  },
  {
   "cell_type": "code",
   "execution_count": 6,
   "metadata": {},
   "outputs": [
    {
     "name": "stderr",
     "output_type": "stream",
     "text": [
      "2025-01-16 19:29:35 - INFO - Launching LDPlayer instance: B\n",
      "2025-01-16 19:29:35 - INFO - Waiting for the new LDPlayer instance to appear as a device...\n",
      "2025-01-16 19:29:53 - INFO - LDPlayer instance is running with device ID: emulator-5556\n",
      "2025-01-16 19:29:54 - INFO - Device emulator-5556 is fully booted.\n",
      "2025-01-16 19:29:54 - INFO - Starting Appium Server for instance: B\n",
      "2025-01-16 19:29:57 - INFO - Appium server is running!\n"
     ]
    }
   ],
   "source": [
    "\n",
    "app_activity = 'com.playchat.ui.activity.MainActivity'\n",
    "instance_index = instance[\"index\"]\n",
    "instance_name = instance[\"name\"]\n",
    "instance_appium_port = instance[\"appium_port\"]\n",
    "instance_system_port = instance[\"system_port\"]\n",
    "instance_adb_port = instance[\"adb_port\"]\n",
    "device_id = launch_instance(instance)\n",
    "logging.info(f\"Starting Appium Server for instance: {instance_name}\")\n",
    "run_appium_server(instance_appium_port)\n",
    "installed_platos = list_installed_plato(device_id, instance_adb_port)\n"
   ]
  },
  {
   "cell_type": "code",
   "execution_count": 7,
   "metadata": {},
   "outputs": [
    {
     "data": {
      "text/plain": [
       "'com.plato.androia'"
      ]
     },
     "execution_count": 7,
     "metadata": {},
     "output_type": "execute_result"
    }
   ],
   "source": [
    "package_name = installed_platos[0]\n",
    "package_name"
   ]
  },
  {
   "cell_type": "code",
   "execution_count": 8,
   "metadata": {},
   "outputs": [
    {
     "name": "stderr",
     "output_type": "stream",
     "text": [
      "2025-01-16 19:30:05 - INFO - Starting Appium session on the device on instance B for com.plato.androia app\n"
     ]
    }
   ],
   "source": [
    "logging.info(f\"Starting Appium session on the device on instance {instance_name} for {package_name} app\" )\n",
    "d = start_appium_session(instance_appium_port, instance_system_port, instance_adb_port, device_id, package_name, app_activity)\n"
   ]
  },
  {
   "cell_type": "code",
   "execution_count": 9,
   "metadata": {},
   "outputs": [],
   "source": [
    "d.find_element(AppiumBy.ANDROID_UIAUTOMATOR,\n",
    "    'new UiSelector().text(\"Close app\")'\n",
    ").click()"
   ]
  },
  {
   "cell_type": "code",
   "execution_count": 9,
   "metadata": {},
   "outputs": [
    {
     "name": "stderr",
     "output_type": "stream",
     "text": [
      "2025-01-16 19:30:39 - INFO - launching app com.plato.androia\n"
     ]
    },
    {
     "data": {
      "text/plain": [
       "<appium.webdriver.webdriver.WebDriver (session=\"6b1ecb5b-e107-4d8a-87a4-8a9a6f3595e4\")>"
      ]
     },
     "execution_count": 9,
     "metadata": {},
     "output_type": "execute_result"
    }
   ],
   "source": [
    "logging.info(f\"launching app {package_name}\")\n",
    "d.activate_app(package_name)"
   ]
  },
  {
   "cell_type": "code",
   "execution_count": 9,
   "metadata": {},
   "outputs": [
    {
     "data": {
      "text/plain": [
       "<appium.webdriver.webdriver.WebDriver (session=\"601ff091-22ac-447e-b46a-c90cf9bea63a\")>"
      ]
     },
     "execution_count": 9,
     "metadata": {},
     "output_type": "execute_result"
    }
   ],
   "source": [
    "size = d.get_window_size()\n",
    "\n",
    "x1 = int(size['width'] * 0.75)\n",
    "y1 = int(size['height'] * 0.25)\n",
    "\n",
    "x2 = int(size['width'] * 0.35)\n",
    "y2 = int(size['height'] * 0.25)\n",
    "\n",
    "d.swipe(x1, y1, x2, y2, 150)\n"
   ]
  },
  {
   "cell_type": "code",
   "execution_count": 14,
   "metadata": {},
   "outputs": [],
   "source": [
    "d.find_element(By.XPATH, '//android.widget.TextView[@text=\"FEED\"]').click()\n"
   ]
  },
  {
   "cell_type": "code",
   "execution_count": 34,
   "metadata": {},
   "outputs": [],
   "source": [
    "while 1:\n",
    "    flag = False\n",
    "    try:\n",
    "        recycler = d.find_element(By.ID, 'favorites_recycler_view')\n",
    "    except:\n",
    "        break\n",
    "    for title_element in recycler.find_elements(By.ID, 'title_text_view'):\n",
    "        if 'Cribbage'.lower() == title_element.text.lower().strip():\n",
    "            x = title_element.location_in_view['x'] + title_element.size['width']//2\n",
    "            y = title_element.location_in_view['y'] - 50\n",
    "            d.tap([(x, y)])\n",
    "            flag = True\n",
    "            break\n",
    "    if flag:\n",
    "        break\n",
    "    else:\n",
    "        print(\"couldn't find\")\n",
    "        size = d.get_window_size()\n",
    "        x1 = int(size['width'] * 0.75)\n",
    "        y1 = int(size['height'] * 0.25)\n",
    "        x2 = int(size['width'] * 0.35)\n",
    "        y2 = int(size['height'] * 0.25)\n",
    "        d.swipe(x1, y1, x2, y2, 150)\n",
    "    "
   ]
  },
  {
   "cell_type": "code",
   "execution_count": null,
   "metadata": {},
   "outputs": [],
   "source": [
    "d.find_element(By.ID, 'favorites_recycler_view')\n",
    "\n",
    "# \n",
    "# //android.widget.TextView[@text='2']"
   ]
  },
  {
   "cell_type": "code",
   "execution_count": null,
   "metadata": {},
   "outputs": [],
   "source": []
  },
  {
   "cell_type": "code",
   "execution_count": null,
   "metadata": {},
   "outputs": [],
   "source": [
    "d.find_element(By.ID, \"plato_conversation_time\").text\n",
    "\n",
    "# d.find_element(AppiumBy.XPATH, \"//*[@resource-id='game_type_time' or @resource-id='plato_conversation_time']\")\n"
   ]
  },
  {
   "cell_type": "code",
   "execution_count": 10,
   "metadata": {},
   "outputs": [],
   "source": [
    "from appium import webdriver\n",
    "from PIL import Image, ImageDraw\n",
    "import io\n"
   ]
  },
  {
   "cell_type": "code",
   "execution_count": 11,
   "metadata": {},
   "outputs": [],
   "source": [
    "screenshot = d.get_screenshot_as_png()\n"
   ]
  },
  {
   "cell_type": "code",
   "execution_count": 20,
   "metadata": {},
   "outputs": [
    {
     "data": {
      "text/plain": [
       "155.32224567009067"
      ]
     },
     "execution_count": 20,
     "metadata": {},
     "output_type": "execute_result"
    }
   ],
   "source": [
    "\n",
    "image = Image.open(io.BytesIO(screenshot))\n",
    "width, height = image.size\n",
    "x = int(width * 0.5)\n",
    "y = int(height * 0.89)\n",
    "pixel_color = image.getpixel((x, y))\n",
    "yellow = (255, 255, 0)\n",
    "blue = (22, 135, 239)\n",
    "def color_distance(c1, c2):\n",
    "    return sum((a - b) ** 2 for a, b in zip(c1, c2)) ** 0.5\n",
    "distance_to_blue = color_distance(pixel_color, blue)\n",
    "distance_to_blue"
   ]
  },
  {
   "cell_type": "code",
   "execution_count": null,
   "metadata": {},
   "outputs": [],
   "source": [
    "pixel_color"
   ]
  },
  {
   "cell_type": "code",
   "execution_count": null,
   "metadata": {},
   "outputs": [],
   "source": []
  },
  {
   "cell_type": "code",
   "execution_count": 12,
   "metadata": {},
   "outputs": [],
   "source": [
    "screenshot = d.get_screenshot_as_png()\n",
    "\n"
   ]
  },
  {
   "cell_type": "code",
   "execution_count": 18,
   "metadata": {},
   "outputs": [],
   "source": [
    "\n",
    "image = Image.open(io.BytesIO(screenshot))\n",
    "\n",
    "width, height = image.size\n",
    "\n",
    "x = int(width * 0.55)\n",
    "y = int(height * 0.6)  # Vertically centered\n",
    "\n",
    "draw = ImageDraw.Draw(image)\n",
    "marker_radius = 10  # Radius of the marker circle\n",
    "draw.ellipse((x - marker_radius, y - marker_radius, x + marker_radius, y + marker_radius), outline=\"red\", width=3)\n",
    "\n",
    "# Optionally show the image directly in code\n",
    "image.show()\n"
   ]
  },
  {
   "cell_type": "code",
   "execution_count": null,
   "metadata": {},
   "outputs": [],
   "source": []
  },
  {
   "cell_type": "code",
   "execution_count": null,
   "metadata": {},
   "outputs": [],
   "source": []
  },
  {
   "cell_type": "code",
   "execution_count": 94,
   "metadata": {},
   "outputs": [],
   "source": [
    "from selenium.webdriver.remote.webelement import WebElement\n",
    "\n",
    "WebDriverWait(d, 10).until(EC.visibility_of_element_located(\n",
    "    (By.ID, 'enterable_item_title')))\n",
    "found_matchmaking_buttons: list[WebElement] = []\n",
    "while 1:\n",
    "    found_new = False\n",
    "    for matchmaking_title in d.find_elements(By.ID, \"enterable_item_title\"):\n",
    "        try:\n",
    "            txt = matchmaking_title.text\n",
    "            if txt not in [x[1] for x in found_matchmaking_buttons]:\n",
    "                found_matchmaking_buttons.append((matchmaking_title, txt))\n",
    "                found_new = True\n",
    "        except Exception as e:\n",
    "            pass\n",
    "    if not found_new:\n",
    "        break\n",
    "    d.press_keycode(20)\n",
    "    d.press_keycode(20)\n",
    "    d.press_keycode(20)\n",
    "    d.press_keycode(20)\n",
    "if found_matchmaking_buttons:\n",
    "    found_matchmaking_buttons[-1][0].click()\n",
    "WebDriverWait(d, 10).until(EC.visibility_of_element_located((By.ID, 'join_button'))).click()\n",
    "while 1:\n",
    "    try:\n",
    "        el = d.find_element(By.ID, 'enterable_item_message')\n",
    "        txt = el.text\n",
    "        assert 'match made' in txt.lower()\n",
    "        el.click()\n",
    "        break\n",
    "    except:\n",
    "        pass\n",
    "    sleep(0.5)\n",
    "sleep(2)\n",
    "WebDriverWait(d, 3*60).until(EC.visibility_of_element_located((By.ID, 'plato_chat_box_fake')))\n"
   ]
  },
  {
   "cell_type": "code",
   "execution_count": null,
   "metadata": {},
   "outputs": [],
   "source": []
  },
  {
   "cell_type": "code",
   "execution_count": null,
   "metadata": {},
   "outputs": [],
   "source": []
  },
  {
   "cell_type": "code",
   "execution_count": null,
   "metadata": {},
   "outputs": [],
   "source": [
    "game_name = 'Bingo'\n",
    "found_games = []\n",
    "\n",
    "games_button = d.find_elements(By.ID, \"game_list_item_container\")\n",
    "found_new = False\n",
    "for game in games_button:\n",
    "    try:\n",
    "        game_title = game.find_element(By.ID, 'game_list_item_title').text\n",
    "        print(game_title)\n",
    "        if game_title not in found_games:\n",
    "            if game_name.lower() == game_title.lower():\n",
    "                game.click()\n",
    "                break\n",
    "            found_games.append(game_title)\n",
    "            found_new = True\n",
    "    except:\n",
    "        pass\n",
    "found_new"
   ]
  },
  {
   "cell_type": "code",
   "execution_count": null,
   "metadata": {},
   "outputs": [],
   "source": [
    "\n",
    "d.press_keycode(20)\n",
    "d.press_keycode(20)\n",
    "d.press_keycode(20)\n",
    "d.press_keycode(20)\n",
    "d.press_keycode(20)"
   ]
  },
  {
   "cell_type": "code",
   "execution_count": null,
   "metadata": {},
   "outputs": [],
   "source": []
  },
  {
   "cell_type": "code",
   "execution_count": null,
   "metadata": {},
   "outputs": [],
   "source": [
    "d.find_element(By.ID, \"plato_image_people\")"
   ]
  },
  {
   "cell_type": "code",
   "execution_count": null,
   "metadata": {},
   "outputs": [],
   "source": [
    "\n",
    "d.terminate_app(package_name)\n"
   ]
  },
  {
   "cell_type": "code",
   "execution_count": 9,
   "metadata": {},
   "outputs": [],
   "source": [
    "d.quit()\n"
   ]
  },
  {
   "cell_type": "code",
   "execution_count": 19,
   "metadata": {},
   "outputs": [
    {
     "name": "stderr",
     "output_type": "stream",
     "text": [
      "2025-01-16 19:33:18 - INFO - Appium server on port 4724 has been stopped.\n"
     ]
    }
   ],
   "source": [
    "\n",
    "d.quit()\n",
    "\n",
    "stop_appium_server(instance_appium_port)\n",
    "quit_ldplayer_instance_by_index(instance_index)"
   ]
  }
 ],
 "metadata": {
  "kernelspec": {
   "display_name": "Python 3",
   "language": "python",
   "name": "python3"
  },
  "language_info": {
   "codemirror_mode": {
    "name": "ipython",
    "version": 3
   },
   "file_extension": ".py",
   "mimetype": "text/x-python",
   "name": "python",
   "nbconvert_exporter": "python",
   "pygments_lexer": "ipython3",
   "version": "3.11.0"
  }
 },
 "nbformat": 4,
 "nbformat_minor": 2
}
